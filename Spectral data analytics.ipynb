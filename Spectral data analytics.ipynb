{
 "cells": [
  {
   "cell_type": "markdown",
   "id": "983a64a5-9e6b-40d7-9f83-36a5cb2b8544",
   "metadata": {},
   "source": [
    "# **Biological tissue spectra data analytics**\n",
    "\n",
    "## **Linus Awuniji**\n",
    "*PhD candidate Applied physics*\n",
    "\n",
    "**Topic:** *Infrared spectroscopic-based machine learning methods for estimating biomechanical properties of human cartilage tissue*\n",
    "___"
   ]
  },
  {
   "cell_type": "markdown",
   "id": "747c2fc4-182e-47f7-968d-560b1599c5a2",
   "metadata": {},
   "source": [
    "### This note book is designed to perform spectral data analysis obtained from human cartilage tissue \n",
    "\n",
    "\n",
    "\n",
    "\n",
    "\n",
    "\n",
    "\n",
    "\n",
    "\n",
    "**In this note book the following steps involved in spectral data analysis will be carried out:**\n",
    "1. Data importation\n",
    "2. Data cleanining\n",
    "3. Data visualization \n",
    "4. Spectral preprocessing\n",
    "5. Machine learning model development \n",
    "6. Model explainability (Permuatation feature importance)\n",
    "6. Model deployment\n",
    "\n",
    "\n",
    "\n",
    "\n",
    "*Add a figure here to graphically illustrate the steps taken and probably the methods for the manuscript*"
   ]
  },
  {
   "cell_type": "markdown",
   "id": "535afee2-44d2-4d96-b64a-67e96b1c6e1f",
   "metadata": {},
   "source": [
    "### Data importation"
   ]
  },
  {
   "cell_type": "code",
   "execution_count": null,
   "id": "819d2963-b30f-402a-bb61-d71786613cac",
   "metadata": {},
   "outputs": [],
   "source": []
  },
  {
   "cell_type": "markdown",
   "id": "b2c2baad-a284-42a2-8cfe-bfb8917bc0e7",
   "metadata": {},
   "source": [
    "### Data cleaning and visualization"
   ]
  },
  {
   "cell_type": "code",
   "execution_count": null,
   "id": "c61aeaf4-f8c0-478d-9049-3297b2c5deb9",
   "metadata": {
    "tags": []
   },
   "outputs": [],
   "source": [
    "        "
   ]
  },
  {
   "cell_type": "markdown",
   "id": "748fed10-d6c5-4c85-9745-4f26ec9188e3",
   "metadata": {},
   "source": [
    "### Data preprocessing "
   ]
  },
  {
   "cell_type": "code",
   "execution_count": null,
   "id": "c217e80e-c583-4a9b-9d40-d4b35467afe0",
   "metadata": {},
   "outputs": [],
   "source": []
  },
  {
   "cell_type": "markdown",
   "id": "0bb548f9-b717-41f3-b1ac-d480ca8708a3",
   "metadata": {
    "tags": []
   },
   "source": [
    "### Machine learning model development and analysis  "
   ]
  },
  {
   "cell_type": "code",
   "execution_count": null,
   "id": "5344b4f5-f96a-4573-b2bb-4e95ff832f07",
   "metadata": {},
   "outputs": [],
   "source": []
  },
  {
   "cell_type": "markdown",
   "id": "fd6a11ba-528c-4408-bac2-a2a8b0a0af14",
   "metadata": {},
   "source": [
    "### Model explainability (Permutation feature importace)"
   ]
  },
  {
   "cell_type": "code",
   "execution_count": null,
   "id": "6ab9928a-452a-4980-92e0-b889acb30c9b",
   "metadata": {},
   "outputs": [],
   "source": []
  },
  {
   "cell_type": "markdown",
   "id": "f468e163-e766-4e2e-a727-a3da31628865",
   "metadata": {
    "tags": []
   },
   "source": [
    "### Model deployment"
   ]
  },
  {
   "cell_type": "code",
   "execution_count": null,
   "id": "3b05ff59-a898-4d6d-af95-13becb7491d0",
   "metadata": {},
   "outputs": [],
   "source": []
  }
 ],
 "metadata": {
  "kernelspec": {
   "display_name": "Python 3 (ipykernel)",
   "language": "python",
   "name": "python3"
  },
  "language_info": {
   "codemirror_mode": {
    "name": "ipython",
    "version": 3
   },
   "file_extension": ".py",
   "mimetype": "text/x-python",
   "name": "python",
   "nbconvert_exporter": "python",
   "pygments_lexer": "ipython3",
   "version": "3.8.3"
  },
  "toc-autonumbering": true
 },
 "nbformat": 4,
 "nbformat_minor": 5
}
